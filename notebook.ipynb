{
 "cells": [
  {
   "cell_type": "code",
   "execution_count": 4,
   "metadata": {},
   "outputs": [
    {
     "data": {
      "text/plain": [
       "'블루라벨과 글렌피딕은 둘 다 스코틀랜드의 위스키 브랜드이지만, 블루라벨은 존니 워커사의 프리미엄 블렌디드 위스키이며, 글렌피딕은 싱글 몰트 위스키 브랜드입니다. 블루라벨은 여러 종류의 위스키를 블렌딩하여 만들어지는 반면에, 글렌피딕은 한 지역의 한 증류소에서 만들어지는 순수한 보리위스키입니다.\\n\\n제 이름은 AI 챗봇이므로 개인정보를 제공할 수 없습니다. 어떤 다른 질문이 있으시면 도와드리겠습니다.'"
      ]
     },
     "execution_count": 4,
     "metadata": {},
     "output_type": "execute_result"
    }
   ],
   "source": [
    "from langchain.chat_models import ChatOpenAI\n",
    "from langchain.prompts import PromptTemplate, ChatPromptTemplate\n",
    "from langchain.callbacks import StreamingStdOutCallbackHandler\n",
    "\n",
    "chat = ChatOpenAI(\n",
    "    temperature= 0.1,\n",
    "    streaming=True,\n",
    "    callbacks=[StreamingStdOutCallbackHandler()])\n",
    "\n",
    "template1 = PromptTemplate.from_template(\n",
    "    \"{alchol_a}와 {alchol_b}의 차이를 알려주세요. 그리고 당신의 이름을 알려주세요.\"\n",
    ")\n",
    "\n",
    "\n",
    "\n",
    "prompt = template1.format(alchol_a=\"블루라벨\", alchol_b=\"글렌피딕\")\n",
    "\n",
    "chat.predict(prompt)"
   ]
  },
  {
   "cell_type": "code",
   "execution_count": 5,
   "metadata": {},
   "outputs": [
    {
     "data": {
      "text/plain": [
       "AIMessage(content='동동주와 위스키는 원료, 제조 방법, 향, 맛 등 여러 측면에서 큰 차이가 있습니다.\\n\\n동동주는 한국 전통 술로써 쌀, 보리, 옥수수 등의 곡물을 발효시켜 만들어지는데, 일반적으로 알코올 도수가 낮고 부드러운 맛을 가지고 있습니다. 특히 산뜻하고 깔끔한 맛과 함께 고소한 향이 특징입니다. 예를 들어, 백향과 같은 동동주는 부드럽고 깔끔한 맛과 함께 쌀의 고소한 향이 느껴집니다.\\n\\n반면에 위스키는 보통 보리, 옥수수, 보리 등의 곡물을 발효시켜 증류하여 만들어지는 원액을 오크통에서 숙성시킨 후 만들어집니다. 위스키는 알코올 도수가 높고 훨씬 더 진한 풍미를 가지고 있습니다. 일반적으로 스모키한 맛과 과일향, 바닐라향 등 다양한 복합적인 향과 맛이 느껴집니다.\\n\\n따라서, 동동주는 부드럽고 깔끔한 맛과 고소한 향이 특징이며, 위스키는 진한 풍미와 다양한 향이 느껴지는 것이 큰 차이점입니다.')"
      ]
     },
     "execution_count": 5,
     "metadata": {},
     "output_type": "execute_result"
    }
   ],
   "source": [
    "template2= ChatPromptTemplate.from_messages([\n",
    "    (\"system\",\"당신은 술 전문가 입니다. 모든 술에 대해 박식한 정보를 갖고 있으며, 그 차이점에 대해 친절하게 설명하고 맛에 대한 간단한 예시도 들어 주고 있습니다.\"),\n",
    "    (\"ai\",'안녕하세요!, 전 주류 전문가 {name} 입니다!'),\n",
    "    (\"human\",\"{a}와 {b}의 차이를 알려주세요. 그리고 향과 맛에 대해 설명해 주세요.\")\n",
    "])\n",
    "\n",
    "promt2 =template2.format_messages(\n",
    "    a= \"동동주\",\n",
    "    b= \"위스키\",\n",
    "    name=\"명장_막걸리나\"\n",
    ")\n",
    "chat.predict_messages(promt2)"
   ]
  },
  {
   "cell_type": "code",
   "execution_count": 6,
   "metadata": {},
   "outputs": [
    {
     "data": {
      "text/plain": [
       "['Hello', 'how', 'are', 'you']"
      ]
     },
     "execution_count": 6,
     "metadata": {},
     "output_type": "execute_result"
    }
   ],
   "source": [
    "from langchain.schema import BaseOutputParser\n",
    "\n",
    "class CommaOutputParser(BaseOutputParser):\n",
    "    def parse(self,text):\n",
    "        items = text.strip().split(\",\")\n",
    "        return list(map(str.strip, items))\n",
    "    \n",
    "p = CommaOutputParser()\n",
    "\n",
    "p.parse(\"Hello, how, are, you\")"
   ]
  },
  {
   "cell_type": "code",
   "execution_count": 8,
   "metadata": {},
   "outputs": [
    {
     "data": {
      "text/plain": [
       "[\"['수성'\", \"'금성'\", \"'지구'\", \"'화성'\", \"'목성'\", \"'토성'\", \"'천왕성'\", \"'해왕성']\"]"
      ]
     },
     "execution_count": 8,
     "metadata": {},
     "output_type": "execute_result"
    }
   ],
   "source": [
    "\n",
    "template = ChatPromptTemplate.from_messages(\n",
    "    [('system', '당신은 파이썬의 list 생성 기계입니다. 입력받은 모든 질문은 모두 list 형태로 답변될 것입니다. 최대 길이는 {max_items}입니다. 절대로 절대로 다른 답변은 하지 마십시오.'),\n",
    "     (\"human\", \"{question}\")\n",
    "    ]\n",
    ")\n",
    "\n"
   ]
  },
  {
   "cell_type": "code",
   "execution_count": 9,
   "metadata": {},
   "outputs": [
    {
     "data": {
      "text/plain": [
       "[\"['Pikachu'\", \"'Charmander'\", \"'Bulbasaur'\", \"'Squirtle'\", \"'Jigglypuff']\"]"
      ]
     },
     "execution_count": 9,
     "metadata": {},
     "output_type": "execute_result"
    }
   ],
   "source": [
    "chain = template | chat | CommaOutputParser()\n",
    "\n",
    "chain.invoke({\n",
    "    \"max_items\": 5,\n",
    "    \"question\":\"What are the pokemons\"\n",
    "})"
   ]
  }
 ],
 "metadata": {
  "kernelspec": {
   "display_name": "env",
   "language": "python",
   "name": "python3"
  },
  "language_info": {
   "codemirror_mode": {
    "name": "ipython",
    "version": 3
   },
   "file_extension": ".py",
   "mimetype": "text/x-python",
   "name": "python",
   "nbconvert_exporter": "python",
   "pygments_lexer": "ipython3",
   "version": "3.11.6"
  }
 },
 "nbformat": 4,
 "nbformat_minor": 2
}
